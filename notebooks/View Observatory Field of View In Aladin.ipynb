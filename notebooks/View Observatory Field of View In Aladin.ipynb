{
 "cells": [
  {
   "cell_type": "code",
   "execution_count": 1,
   "id": "fa34199e-534c-455f-8292-eca0428f16cd",
   "metadata": {},
   "outputs": [
    {
     "name": "stdout",
     "output_type": "stream",
     "text": [
      "%pylab is deprecated, use %matplotlib inline and import the required libraries.\n",
      "Populating the interactive namespace from numpy and matplotlib\n"
     ]
    }
   ],
   "source": [
    "%pylab inline\n",
    "import misc_jwst.plotting"
   ]
  },
  {
   "cell_type": "markdown",
   "id": "6c9b9072-4b97-463b-853e-63f9c39e21da",
   "metadata": {},
   "source": [
    "# Display the Observatory Field of View during a given observation\n",
    "\n",
    "This allows visualizing the context of where a given observation was pointed on the sky, including for parallel fields or potential sources of stray light from outside of the primary aperture. "
   ]
  },
  {
   "cell_type": "code",
   "execution_count": 2,
   "id": "f50324a6-c1f0-441e-9523-9e4a9098785e",
   "metadata": {},
   "outputs": [],
   "source": [
    "filename = 'jw02725387001_03105_00001_nrca3_rate.fits'"
   ]
  },
  {
   "cell_type": "markdown",
   "id": "9db3cb96-187a-4aac-b242-93ad74634159",
   "metadata": {},
   "source": [
    "## Create an aladin window centered on the target location for a given observation. "
   ]
  },
  {
   "cell_type": "code",
   "execution_count": 12,
   "id": "4712b459-94f4-41fd-8cd8-6f65901875e3",
   "metadata": {},
   "outputs": [
    {
     "data": {
      "application/vnd.jupyter.widget-view+json": {
       "model_id": "df253375daa84660966225478897a4b6",
       "version_major": 2,
       "version_minor": 1
      },
      "text/plain": [
       "Aladin(survey='P/2MASS/color')"
      ]
     },
     "execution_count": 12,
     "metadata": {},
     "output_type": "execute_result"
    }
   ],
   "source": [
    "# create the object\n",
    "aladin = misc_jwst.plotting.aladin_setup_plot(filename)\n",
    "\n",
    "# you --must-- have that object handle as the last output in a Jupyter cell \n",
    "# to have it displayed in the notebook:\n",
    "aladin"
   ]
  },
  {
   "cell_type": "code",
   "execution_count": 13,
   "id": "5b0cb2f1-947a-4bd9-bbe2-211c7a608af6",
   "metadata": {},
   "outputs": [],
   "source": [
    "# Wait for the above cell to finish loading the widget before continuing. \n",
    "# This is a workaround for an annoying limitation in ipyaladin. \n",
    "import time\n",
    "time.sleep(1)  "
   ]
  },
  {
   "cell_type": "code",
   "execution_count": 14,
   "id": "5d0b81e7-9649-4e5c-8cf5-1b91c391eb5c",
   "metadata": {},
   "outputs": [],
   "source": [
    "# Annotate the JWST instrument FOVs during that exposure, and display that data file\n",
    "misc_jwst.plotting.aladin_annotate_data_and_apertures(aladin, filename)"
   ]
  },
  {
   "cell_type": "code",
   "execution_count": 15,
   "id": "06e4aa3d-c2b0-4db5-83f1-d284d8f1d191",
   "metadata": {},
   "outputs": [],
   "source": [
    "aladin.fov = 0.1 # Zoom in. This is in degrees. "
   ]
  },
  {
   "cell_type": "code",
   "execution_count": null,
   "id": "93931a56-fb65-4c35-a979-9c16b3aa2b72",
   "metadata": {},
   "outputs": [],
   "source": []
  }
 ],
 "metadata": {
  "kernelspec": {
   "display_name": "Python 3 (ipykernel)",
   "language": "python",
   "name": "python3"
  },
  "language_info": {
   "codemirror_mode": {
    "name": "ipython",
    "version": 3
   },
   "file_extension": ".py",
   "mimetype": "text/x-python",
   "name": "python",
   "nbconvert_exporter": "python",
   "pygments_lexer": "ipython3",
   "version": "3.12.5"
  }
 },
 "nbformat": 4,
 "nbformat_minor": 5
}
